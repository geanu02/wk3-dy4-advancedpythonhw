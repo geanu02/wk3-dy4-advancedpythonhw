{
 "cells": [
  {
   "cell_type": "markdown",
   "id": "9f186d08",
   "metadata": {},
   "source": [
    "# Whiteboard"
   ]
  },
  {
   "cell_type": "markdown",
   "id": "574ee61d",
   "metadata": {},
   "source": [
    "### Question: Write a function count_words that takes a string as input and returns a dictionary that maps each word in the string to the number of times it appears.\n",
    "### For example, if the input string is “to be or not to be”, the function should return the dictionary {“to”: 2, “be”: 2, “or”: 1, “not”: 1}.\n",
    "### Also, if the input string contains any contractions (e.g. “it’s”, “don’t”), treat them as separate words for counting purposes (e.g. “it’s” should be counted as “it” and “’s”)."
   ]
  },
  {
   "cell_type": "code",
   "execution_count": 30,
   "id": "f34ef4e8",
   "metadata": {},
   "outputs": [
    {
     "name": "stdout",
     "output_type": "stream",
     "text": [
      "['that', 's', 'my', 'maitre', 'd', 'mr', 'anderson']\n",
      "{'that': 1, 's': 1, 'my': 1, 'maitre': 1, 'd': 1, 'mr': 1, 'anderson': 1}\n"
     ]
    }
   ],
   "source": [
    "import re\n",
    "\n",
    "def count_words(input_string):\n",
    "    new_dict = {}\n",
    "    str_split = re.findall(r\"[\\w]+\", input_string.lower())\n",
    "    print(str_split)\n",
    "    for elem in str_split:\n",
    "        new_dict[elem] = new_dict.get(elem, 0) + 1\n",
    "    return new_dict\n",
    "    \n",
    "print(count_words(\"That's my maitre'd, Mr. Anderson!\"))"
   ]
  },
  {
   "cell_type": "code",
   "execution_count": 27,
   "id": "feb13e8c",
   "metadata": {},
   "outputs": [
    {
     "name": "stdout",
     "output_type": "stream",
     "text": [
      "['h', 'o', 'l', 'a', 'm', 'a', 'm', 'à']\n",
      "{'h': 1, 'o': 1, 'l': 1, 'a': 2, 'm': 2, 'à': 1}\n"
     ]
    }
   ],
   "source": [
    "print(count_words(\"\"))"
   ]
  }
 ],
 "metadata": {
  "kernelspec": {
   "display_name": "Python 3 (ipykernel)",
   "language": "python",
   "name": "python3"
  },
  "language_info": {
   "codemirror_mode": {
    "name": "ipython",
    "version": 3
   },
   "file_extension": ".py",
   "mimetype": "text/x-python",
   "name": "python",
   "nbconvert_exporter": "python",
   "pygments_lexer": "ipython3",
   "version": "3.9.13"
  }
 },
 "nbformat": 4,
 "nbformat_minor": 5
}
